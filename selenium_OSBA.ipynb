{
 "cells": [
  {
   "cell_type": "code",
   "execution_count": 1,
   "metadata": {},
   "outputs": [],
   "source": [
    "from selenium import webdriver\n",
    "from selenium.webdriver.common.by import By\n",
    "from selenium.webdriver.support.ui import WebDriverWait\n",
    "from selenium.webdriver.support import expected_conditions as EC"
   ]
  },
  {
   "cell_type": "code",
   "execution_count": 2,
   "metadata": {},
   "outputs": [],
   "source": [
    "import time\n",
    "time.sleep(2)"
   ]
  },
  {
   "cell_type": "code",
   "execution_count": 3,
   "metadata": {},
   "outputs": [],
   "source": [
    "import pandas as pd \n",
    "import numpy as np \n",
    "import requests \n",
    "from bs4 import BeautifulSoup\n",
    "url =\"https://www.ontariosba.ca/stats/division_instance/359750?subseason=642436&tab=division_instance_player_stats&tool=3881782\"\n",
    "request = requests.get(url)\n",
    "soup = BeautifulSoup(request.text , \"html5lib\")\n",
    "cols_head = soup.find_all(\"thead\")\n",
    "scoring = cols_head[0].find_all(\"th\")\n",
    "scoring_col = [] \n",
    "for i in range(len(scoring)): \n",
    "    scoring_col.append(scoring[i].text.strip())"
   ]
  },
  {
   "cell_type": "code",
   "execution_count": 4,
   "metadata": {},
   "outputs": [
    {
     "data": {
      "text/plain": [
       "['#',\n",
       " 'Name',\n",
       " 'Team',\n",
       " 'GP',\n",
       " 'PPG',\n",
       " 'FGM',\n",
       " 'FGA',\n",
       " 'FG%',\n",
       " 'FTM',\n",
       " 'FTA',\n",
       " 'FT%',\n",
       " '3PM',\n",
       " '3PA',\n",
       " '3P%',\n",
       " 'PTS']"
      ]
     },
     "execution_count": 4,
     "metadata": {},
     "output_type": "execute_result"
    }
   ],
   "source": [
    "scoring_col"
   ]
  },
  {
   "cell_type": "code",
   "execution_count": 5,
   "metadata": {},
   "outputs": [],
   "source": [
    "url = 'https://www.ontariosba.ca/stats/division_instance/359750?subseason=642436&tab=division_instance_player_stats&tool=3881782'\n",
    "\n",
    "driver = webdriver.Chrome(\"E:\\chrome driver\\chromedriver.exe\")\n",
    "driver.get(url)\n",
    "wait = WebDriverWait(driver,10)"
   ]
  },
  {
   "cell_type": "code",
   "execution_count": 6,
   "metadata": {},
   "outputs": [],
   "source": [
    "def click_next(sec): \n",
    "    try: \n",
    "        element = WebDriverWait(driver,sec).until(EC.presence_of_element_located((By.LINK_TEXT,\"Next →\")) )\n",
    "        element.click()\n",
    "    except:\n",
    "        driver.quit()"
   ]
  },
  {
   "cell_type": "code",
   "execution_count": 7,
   "metadata": {},
   "outputs": [],
   "source": [
    "def obtain_data(sec): \n",
    "    time.sleep(sec)\n",
    "    for table in driver.find_elements_by_xpath('//*[contains(@id,\"player-sm-basketball_scoring-table\")]//tr'):\n",
    "        data = [item.text for item in table.find_elements_by_xpath(\".//*[self::td]\")]\n",
    "        if len(data) !=0:\n",
    "            for i in range(0,15): \n",
    "                dirr[scoring_col[i]].append(data[i])"
   ]
  },
  {
   "cell_type": "code",
   "execution_count": 8,
   "metadata": {},
   "outputs": [
    {
     "data": {
      "text/plain": [
       "(30, 15)"
      ]
     },
     "execution_count": 8,
     "metadata": {},
     "output_type": "execute_result"
    }
   ],
   "source": [
    "dirr = {} \n",
    "\n",
    "for elem in scoring_col: \n",
    "    dirr[elem] = [] \n",
    "\n",
    "obtain_data(10)\n",
    "        \n",
    "df = pd.DataFrame(dirr)\n",
    "df.shape"
   ]
  },
  {
   "cell_type": "code",
   "execution_count": 9,
   "metadata": {},
   "outputs": [
    {
     "data": {
      "text/plain": [
       "(60, 15)"
      ]
     },
     "execution_count": 9,
     "metadata": {},
     "output_type": "execute_result"
    }
   ],
   "source": [
    "# page 2\n",
    "click_next(7)\n",
    "obtain_data(7)\n",
    "        \n",
    "df = pd.DataFrame(dirr)\n",
    "df.shape"
   ]
  },
  {
   "cell_type": "code",
   "execution_count": 10,
   "metadata": {},
   "outputs": [
    {
     "data": {
      "text/plain": [
       "(90, 15)"
      ]
     },
     "execution_count": 10,
     "metadata": {},
     "output_type": "execute_result"
    }
   ],
   "source": [
    "# page 3\n",
    "click_next(7)\n",
    "obtain_data(7)\n",
    "        \n",
    "df = pd.DataFrame(dirr)\n",
    "df.shape"
   ]
  },
  {
   "cell_type": "code",
   "execution_count": 11,
   "metadata": {},
   "outputs": [
    {
     "data": {
      "text/plain": [
       "(120, 15)"
      ]
     },
     "execution_count": 11,
     "metadata": {},
     "output_type": "execute_result"
    }
   ],
   "source": [
    "# page 4\n",
    "click_next(7)\n",
    "obtain_data(7)\n",
    "        \n",
    "df = pd.DataFrame(dirr)\n",
    "df.shape"
   ]
  },
  {
   "cell_type": "code",
   "execution_count": 12,
   "metadata": {},
   "outputs": [
    {
     "data": {
      "text/plain": [
       "(150, 15)"
      ]
     },
     "execution_count": 12,
     "metadata": {},
     "output_type": "execute_result"
    }
   ],
   "source": [
    "# page 5\n",
    "click_next(7)\n",
    "obtain_data(7)\n",
    "        \n",
    "df = pd.DataFrame(dirr)\n",
    "df.shape"
   ]
  },
  {
   "cell_type": "code",
   "execution_count": 13,
   "metadata": {},
   "outputs": [
    {
     "data": {
      "text/plain": [
       "(180, 15)"
      ]
     },
     "execution_count": 13,
     "metadata": {},
     "output_type": "execute_result"
    }
   ],
   "source": [
    "# page 6\n",
    "click_next(7)\n",
    "obtain_data(7)\n",
    "        \n",
    "df = pd.DataFrame(dirr)\n",
    "df.shape"
   ]
  },
  {
   "cell_type": "code",
   "execution_count": 14,
   "metadata": {},
   "outputs": [
    {
     "data": {
      "text/plain": [
       "(191, 15)"
      ]
     },
     "execution_count": 14,
     "metadata": {},
     "output_type": "execute_result"
    }
   ],
   "source": [
    "# page 7\n",
    "click_next(7)\n",
    "obtain_data(7)\n",
    "        \n",
    "df = pd.DataFrame(dirr)\n",
    "df.shape"
   ]
  },
  {
   "cell_type": "code",
   "execution_count": 17,
   "metadata": {},
   "outputs": [],
   "source": [
    "df.to_excel(\"OSBA/scoring_20192020.xlsx\")"
   ]
  },
  {
   "cell_type": "code",
   "execution_count": null,
   "metadata": {},
   "outputs": [],
   "source": []
  }
 ],
 "metadata": {
  "kernelspec": {
   "display_name": "Python 3",
   "language": "python",
   "name": "python3"
  },
  "language_info": {
   "codemirror_mode": {
    "name": "ipython",
    "version": 3
   },
   "file_extension": ".py",
   "mimetype": "text/x-python",
   "name": "python",
   "nbconvert_exporter": "python",
   "pygments_lexer": "ipython3",
   "version": "3.8.5"
  }
 },
 "nbformat": 4,
 "nbformat_minor": 4
}
